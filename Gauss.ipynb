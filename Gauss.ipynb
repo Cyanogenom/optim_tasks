{
 "cells": [
  {
   "cell_type": "code",
   "execution_count": 1,
   "metadata": {},
   "outputs": [
    {
     "name": "stdout",
     "output_type": "stream",
     "text": [
      "Result:\t [-1.0, 2.0]\n"
     ]
    }
   ],
   "source": [
    "def gauss(A):\n",
    "    n = len(A)\n",
    "\n",
    "    for i in range(0, n):\n",
    "        # Search for maximum in this column\n",
    "        maxEl = abs(A[i][i])\n",
    "        maxRow = i\n",
    "        for k in range(i+1, n):\n",
    "            if abs(A[k][i]) > maxEl:\n",
    "                maxEl = abs(A[k][i])\n",
    "                maxRow = k\n",
    "\n",
    "        # Swap maximum row with current row (column by column)\n",
    "        for k in range(i, n+1):\n",
    "            tmp = A[maxRow][k]\n",
    "            A[maxRow][k] = A[i][k]\n",
    "            A[i][k] = tmp\n",
    "\n",
    "        # Make all rows below this one 0 in current column\n",
    "        for k in range(i+1, n):\n",
    "            c = -A[k][i]/A[i][i]\n",
    "            for j in range(i, n+1):\n",
    "                if i == j:\n",
    "                    A[k][j] = 0\n",
    "                else:\n",
    "                    A[k][j] += c * A[i][j]\n",
    "\n",
    "    # Solve equation Ax=b for an upper triangular matrix A\n",
    "    x = [0 for i in range(n)]\n",
    "    for i in range(n-1, -1, -1):\n",
    "        x[i] = A[i][n]/A[i][i]\n",
    "        for k in range(i-1, -1, -1):\n",
    "            A[k][n] -= A[k][i] * x[i]\n",
    "    return x\n",
    "\n",
    "\n",
    "if __name__ == \"__main__\":\n",
    "    from fractions import Fraction\n",
    "    n = 2\n",
    "    \n",
    "    A = [\n",
    "        [1,2,3],\n",
    "        [4,5,6]\n",
    "    ]\n",
    "\n",
    "    # Calculate solution\n",
    "    x = gauss(A)\n",
    "\n",
    "    # Print result\n",
    "    line = \"Result:\\t\"\n",
    "    print(line, x)"
   ]
  },
  {
   "cell_type": "code",
   "execution_count": 2,
   "metadata": {},
   "outputs": [],
   "source": [
    "import numpy as np"
   ]
  },
  {
   "cell_type": "code",
   "execution_count": 3,
   "metadata": {},
   "outputs": [],
   "source": [
    "#Метод сопряжённых градиентов\n",
    "\n",
    "def cg(A, b, tol, it_max):\n",
    "    it=0; x = 0;\n",
    "    r = np.copy(b); r_prev = np.copy(b)\n",
    "    rho = np.dot(r,r)\n",
    "    p = np.copy(r)\n",
    "    while (np.sqrt(rho) > tol*np.sqrt(np.dot(b,b)) and it < it_max):\n",
    "        it += 1\n",
    "        if it == 1:\n",
    "            p[:] = r[:]\n",
    "        else:\n",
    "            beta = np.dot(r,r)/np.dot(r_prev,r_prev)\n",
    "            p = r + beta*p\n",
    "        w = np.dot(A, p)\n",
    "        alpha = np.dot(r,r)/np.dot(p, w)\n",
    "        x = x + alpha*p\n",
    "        r_prev[:] = r[:]\n",
    "        r = r - alpha*w\n",
    "        rho = np.dot(r,r)\n",
    "    return x, it"
   ]
  },
  {
   "cell_type": "code",
   "execution_count": 4,
   "metadata": {},
   "outputs": [],
   "source": [
    "A = [\n",
    "    [1+1/3+1/4, -1/4, 0],\n",
    "    [-1/4, 1/4+1/2+1/3, 0],\n",
    "    [0, -1/3, 1/3+1/2],\n",
    "]\n",
    "b = [5,-3,3]"
   ]
  },
  {
   "cell_type": "code",
   "execution_count": 5,
   "metadata": {},
   "outputs": [
    {
     "data": {
      "text/plain": [
       "(array([ 3.19306931, -1.91584158,  1.91584158]), 1)"
      ]
     },
     "execution_count": 5,
     "metadata": {},
     "output_type": "execute_result"
    }
   ],
   "source": [
    "cg(A, b, 0.001, 0.001)"
   ]
  },
  {
   "cell_type": "code",
   "execution_count": null,
   "metadata": {
    "collapsed": true
   },
   "outputs": [],
   "source": []
  }
 ],
 "metadata": {
  "kernelspec": {
   "display_name": "Python 3",
   "language": "python",
   "name": "python3"
  },
  "language_info": {
   "codemirror_mode": {
    "name": "ipython",
    "version": 3
   },
   "file_extension": ".py",
   "mimetype": "text/x-python",
   "name": "python",
   "nbconvert_exporter": "python",
   "pygments_lexer": "ipython3",
   "version": "3.6.4"
  }
 },
 "nbformat": 4,
 "nbformat_minor": 2
}
